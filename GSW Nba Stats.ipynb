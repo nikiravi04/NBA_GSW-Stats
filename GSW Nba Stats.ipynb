{
 "cells": [
  {
   "cell_type": "code",
   "execution_count": 2,
   "metadata": {},
   "outputs": [],
   "source": [
    "# Pandas and numpy for data manipulation\n",
    "import pandas as pd\n",
    "import numpy as np\n",
    "\n",
    "# Matplotlib and seaborn for visualization\n",
    "import matplotlib.pyplot as plt\n",
    "%matplotlib inline \n",
    "\n",
    "import seaborn as sns\n",
    "\n",
    "# Linear Regression to verify implementation\n",
    "from sklearn.linear_model import LinearRegression\n",
    "\n",
    "# Scipy for statistics\n",
    "import scipy\n",
    "\n",
    "# PyMC3 for Bayesian Inference\n",
    "import pymc3 as pm\n",
    "\n",
    "RANDOM_SEED = 20090425"
   ]
  },
  {
   "cell_type": "markdown",
   "metadata": {},
   "source": [
    "# Golden State Warriors Team rankings\n",
    "\n",
    "A general goal of many statistical data analysis tasks is to relate the influence of one variable on another. Let's suppose three factors count in a game of basketball: FG ,TOV and AST based on the points for each player.\n",
    "\n",
    "FG - Field Goal Attempts -A field goal made is credited to a player when an attempt is successful or when an official awards points for defensive basket interference or goal tending.A made field goal is credited when a player tips the ball into the basket.\n",
    "\n",
    "TOV - Turnovers - A turnover is credited to an offensive player whose actions are directly responsible for losing ball possession to the opposing team prior to shooting. When a team has gained control of the ball or having become entitled to the ball does not put the ball in flight for a try at a field goal before an opponent gains control of the ball - then a turnover situation exists.A team turnover is credited when a team is in or entitled to possession of the ball, and a technical is called on the coach or the bench.\n",
    "\n",
    "AST - Assists - an assist is attributed to a player who passes the ball to a teammate in a way that leads to a score by field goal, meaning that he or she was \"assisting\" in the basket.\n",
    "\n",
    "We observe and collect data for 15 players in the team.The player with more points as well as better FG ,AST,TOV are ranked better in the team. We have taken only 3 stats agaisnt the points for a player in GSW team."
   ]
  },
  {
   "cell_type": "markdown",
   "metadata": {},
   "source": [
    "## Reading the Dataset for GSW\n",
    "We are going to use the pandas library and invoke its read.csv() function in our file. This function returns an object of the DataFrame class. Using the head method to obtain first five entries of the dataset"
   ]
  },
  {
   "cell_type": "code",
   "execution_count": 77,
   "metadata": {},
   "outputs": [],
   "source": [
    "gsw = pd.read_excel('GSW_stats.xlsx')"
   ]
  },
  {
   "cell_type": "code",
   "execution_count": 78,
   "metadata": {},
   "outputs": [
    {
     "data": {
      "text/html": [
       "<div>\n",
       "<style scoped>\n",
       "    .dataframe tbody tr th:only-of-type {\n",
       "        vertical-align: middle;\n",
       "    }\n",
       "\n",
       "    .dataframe tbody tr th {\n",
       "        vertical-align: top;\n",
       "    }\n",
       "\n",
       "    .dataframe thead th {\n",
       "        text-align: right;\n",
       "    }\n",
       "</style>\n",
       "<table border=\"1\" class=\"dataframe\">\n",
       "  <thead>\n",
       "    <tr style=\"text-align: right;\">\n",
       "      <th></th>\n",
       "      <th>Player</th>\n",
       "      <th>G</th>\n",
       "      <th>GS</th>\n",
       "      <th>MP</th>\n",
       "      <th>FG</th>\n",
       "      <th>FGA</th>\n",
       "      <th>FT</th>\n",
       "      <th>FTA</th>\n",
       "      <th>ORB</th>\n",
       "      <th>DRB</th>\n",
       "      <th>TRB</th>\n",
       "      <th>AST</th>\n",
       "      <th>STL</th>\n",
       "      <th>BLK</th>\n",
       "      <th>TOV</th>\n",
       "      <th>PF</th>\n",
       "      <th>PTS</th>\n",
       "    </tr>\n",
       "  </thead>\n",
       "  <tbody>\n",
       "    <tr>\n",
       "      <th>0</th>\n",
       "      <td>Kevin Durant</td>\n",
       "      <td>57</td>\n",
       "      <td>57</td>\n",
       "      <td>2017</td>\n",
       "      <td>554</td>\n",
       "      <td>1074</td>\n",
       "      <td>360</td>\n",
       "      <td>403</td>\n",
       "      <td>30</td>\n",
       "      <td>368</td>\n",
       "      <td>398</td>\n",
       "      <td>336</td>\n",
       "      <td>45</td>\n",
       "      <td>62</td>\n",
       "      <td>176</td>\n",
       "      <td>111</td>\n",
       "      <td>1573</td>\n",
       "    </tr>\n",
       "    <tr>\n",
       "      <th>1</th>\n",
       "      <td>Klay Thompson</td>\n",
       "      <td>56</td>\n",
       "      <td>56</td>\n",
       "      <td>1910</td>\n",
       "      <td>478</td>\n",
       "      <td>1019</td>\n",
       "      <td>102</td>\n",
       "      <td>126</td>\n",
       "      <td>24</td>\n",
       "      <td>199</td>\n",
       "      <td>223</td>\n",
       "      <td>123</td>\n",
       "      <td>63</td>\n",
       "      <td>38</td>\n",
       "      <td>86</td>\n",
       "      <td>120</td>\n",
       "      <td>1224</td>\n",
       "    </tr>\n",
       "    <tr>\n",
       "      <th>2</th>\n",
       "      <td>Stephen Curry</td>\n",
       "      <td>46</td>\n",
       "      <td>46</td>\n",
       "      <td>1576</td>\n",
       "      <td>440</td>\n",
       "      <td>901</td>\n",
       "      <td>200</td>\n",
       "      <td>217</td>\n",
       "      <td>32</td>\n",
       "      <td>204</td>\n",
       "      <td>236</td>\n",
       "      <td>240</td>\n",
       "      <td>56</td>\n",
       "      <td>18</td>\n",
       "      <td>128</td>\n",
       "      <td>118</td>\n",
       "      <td>1316</td>\n",
       "    </tr>\n",
       "    <tr>\n",
       "      <th>3</th>\n",
       "      <td>Draymond Green</td>\n",
       "      <td>42</td>\n",
       "      <td>42</td>\n",
       "      <td>1308</td>\n",
       "      <td>115</td>\n",
       "      <td>271</td>\n",
       "      <td>42</td>\n",
       "      <td>58</td>\n",
       "      <td>41</td>\n",
       "      <td>277</td>\n",
       "      <td>318</td>\n",
       "      <td>307</td>\n",
       "      <td>66</td>\n",
       "      <td>45</td>\n",
       "      <td>108</td>\n",
       "      <td>135</td>\n",
       "      <td>296</td>\n",
       "    </tr>\n",
       "    <tr>\n",
       "      <th>4</th>\n",
       "      <td>Kevon Looney</td>\n",
       "      <td>57</td>\n",
       "      <td>23</td>\n",
       "      <td>1184</td>\n",
       "      <td>161</td>\n",
       "      <td>264</td>\n",
       "      <td>54</td>\n",
       "      <td>86</td>\n",
       "      <td>148</td>\n",
       "      <td>186</td>\n",
       "      <td>334</td>\n",
       "      <td>102</td>\n",
       "      <td>34</td>\n",
       "      <td>47</td>\n",
       "      <td>38</td>\n",
       "      <td>160</td>\n",
       "      <td>377</td>\n",
       "    </tr>\n",
       "  </tbody>\n",
       "</table>\n",
       "</div>"
      ],
      "text/plain": [
       "           Player   G  GS    MP   FG   FGA   FT  FTA  ORB  DRB  TRB  AST  STL  \\\n",
       "0    Kevin Durant  57  57  2017  554  1074  360  403   30  368  398  336   45   \n",
       "1   Klay Thompson  56  56  1910  478  1019  102  126   24  199  223  123   63   \n",
       "2   Stephen Curry  46  46  1576  440   901  200  217   32  204  236  240   56   \n",
       "3  Draymond Green  42  42  1308  115   271   42   58   41  277  318  307   66   \n",
       "4    Kevon Looney  57  23  1184  161   264   54   86  148  186  334  102   34   \n",
       "\n",
       "   BLK  TOV   PF   PTS  \n",
       "0   62  176  111  1573  \n",
       "1   38   86  120  1224  \n",
       "2   18  128  118  1316  \n",
       "3   45  108  135   296  \n",
       "4   47   38  160   377  "
      ]
     },
     "execution_count": 78,
     "metadata": {},
     "output_type": "execute_result"
    }
   ],
   "source": [
    "gsw.head()"
   ]
  },
  {
   "cell_type": "code",
   "execution_count": 79,
   "metadata": {},
   "outputs": [],
   "source": [
    "# Create the features and response\n",
    "X = gsw.loc[:, ['FG','AST','TOV']]\n",
    "y = gsw.loc[:, 'PTS']"
   ]
  },
  {
   "cell_type": "code",
   "execution_count": 80,
   "metadata": {},
   "outputs": [
    {
     "data": {
      "text/html": [
       "<div>\n",
       "<style scoped>\n",
       "    .dataframe tbody tr th:only-of-type {\n",
       "        vertical-align: middle;\n",
       "    }\n",
       "\n",
       "    .dataframe tbody tr th {\n",
       "        vertical-align: top;\n",
       "    }\n",
       "\n",
       "    .dataframe thead th {\n",
       "        text-align: right;\n",
       "    }\n",
       "</style>\n",
       "<table border=\"1\" class=\"dataframe\">\n",
       "  <thead>\n",
       "    <tr style=\"text-align: right;\">\n",
       "      <th></th>\n",
       "      <th>FG</th>\n",
       "      <th>AST</th>\n",
       "      <th>TOV</th>\n",
       "    </tr>\n",
       "  </thead>\n",
       "  <tbody>\n",
       "    <tr>\n",
       "      <th>0</th>\n",
       "      <td>554</td>\n",
       "      <td>336</td>\n",
       "      <td>176</td>\n",
       "    </tr>\n",
       "    <tr>\n",
       "      <th>1</th>\n",
       "      <td>478</td>\n",
       "      <td>123</td>\n",
       "      <td>86</td>\n",
       "    </tr>\n",
       "    <tr>\n",
       "      <th>2</th>\n",
       "      <td>440</td>\n",
       "      <td>240</td>\n",
       "      <td>128</td>\n",
       "    </tr>\n",
       "    <tr>\n",
       "      <th>3</th>\n",
       "      <td>115</td>\n",
       "      <td>307</td>\n",
       "      <td>108</td>\n",
       "    </tr>\n",
       "    <tr>\n",
       "      <th>4</th>\n",
       "      <td>161</td>\n",
       "      <td>102</td>\n",
       "      <td>38</td>\n",
       "    </tr>\n",
       "    <tr>\n",
       "      <th>5</th>\n",
       "      <td>113</td>\n",
       "      <td>164</td>\n",
       "      <td>37</td>\n",
       "    </tr>\n",
       "    <tr>\n",
       "      <th>6</th>\n",
       "      <td>130</td>\n",
       "      <td>80</td>\n",
       "      <td>35</td>\n",
       "    </tr>\n",
       "    <tr>\n",
       "      <th>7</th>\n",
       "      <td>134</td>\n",
       "      <td>82</td>\n",
       "      <td>32</td>\n",
       "    </tr>\n",
       "    <tr>\n",
       "      <th>8</th>\n",
       "      <td>81</td>\n",
       "      <td>85</td>\n",
       "      <td>26</td>\n",
       "    </tr>\n",
       "    <tr>\n",
       "      <th>9</th>\n",
       "      <td>96</td>\n",
       "      <td>19</td>\n",
       "      <td>22</td>\n",
       "    </tr>\n",
       "    <tr>\n",
       "      <th>10</th>\n",
       "      <td>64</td>\n",
       "      <td>56</td>\n",
       "      <td>24</td>\n",
       "    </tr>\n",
       "    <tr>\n",
       "      <th>11</th>\n",
       "      <td>53</td>\n",
       "      <td>28</td>\n",
       "      <td>16</td>\n",
       "    </tr>\n",
       "    <tr>\n",
       "      <th>12</th>\n",
       "      <td>50</td>\n",
       "      <td>41</td>\n",
       "      <td>23</td>\n",
       "    </tr>\n",
       "    <tr>\n",
       "      <th>13</th>\n",
       "      <td>32</td>\n",
       "      <td>3</td>\n",
       "      <td>8</td>\n",
       "    </tr>\n",
       "    <tr>\n",
       "      <th>14</th>\n",
       "      <td>6</td>\n",
       "      <td>13</td>\n",
       "      <td>6</td>\n",
       "    </tr>\n",
       "    <tr>\n",
       "      <th>15</th>\n",
       "      <td>10</td>\n",
       "      <td>1</td>\n",
       "      <td>3</td>\n",
       "    </tr>\n",
       "  </tbody>\n",
       "</table>\n",
       "</div>"
      ],
      "text/plain": [
       "     FG  AST  TOV\n",
       "0   554  336  176\n",
       "1   478  123   86\n",
       "2   440  240  128\n",
       "3   115  307  108\n",
       "4   161  102   38\n",
       "5   113  164   37\n",
       "6   130   80   35\n",
       "7   134   82   32\n",
       "8    81   85   26\n",
       "9    96   19   22\n",
       "10   64   56   24\n",
       "11   53   28   16\n",
       "12   50   41   23\n",
       "13   32    3    8\n",
       "14    6   13    6\n",
       "15   10    1    3"
      ]
     },
     "execution_count": 80,
     "metadata": {},
     "output_type": "execute_result"
    }
   ],
   "source": [
    "X"
   ]
  },
  {
   "cell_type": "markdown",
   "metadata": {},
   "source": [
    "### All of the below graphs show that the stats increase with points , so a better AST,TOV & FG increases the points for the player in the team and hence the ranking of the player"
   ]
  },
  {
   "cell_type": "code",
   "execution_count": 81,
   "metadata": {},
   "outputs": [
    {
     "data": {
      "image/png": "[encoded data removed]",
      "text/plain": [
       "<Figure size 576x576 with 1 Axes>"
      ]
     },
     "metadata": {
      "needs_background": "light"
     },
     "output_type": "display_data"
    }
   ],
   "source": [
    "plt.figure(figsize=(8, 8))\n",
    "\n",
    "plt.plot(gsw['FG'], gsw['PTS'], 'bo');\n",
    "plt.xlabel('Field Goals/player', size = 18); plt.ylabel('Points/player', size = 18); \n",
    "plt.title('Field Goals vs Points Scored', size = 20);"
   ]
  },
  {
   "cell_type": "code",
   "execution_count": 8,
   "metadata": {},
   "outputs": [
    {
     "data": {
      "image/png": "[encoded data removed]",
      "text/plain": [
       "<Figure size 576x576 with 1 Axes>"
      ]
     },
     "metadata": {
      "needs_background": "light"
     },
     "output_type": "display_data"
    }
   ],
   "source": [
    "plt.figure(figsize=(8, 8))\n",
    "\n",
    "plt.plot(gsw['AST'], gsw['PTS'], 'go');\n",
    "plt.xlabel('Assists/player', size = 18); plt.ylabel('Points/player', size = 18); \n",
    "plt.title('Assists vs Points Scored', size = 20);"
   ]
  },
  {
   "cell_type": "code",
   "execution_count": 638,
   "metadata": {},
   "outputs": [
    {
     "data": {
      "image/png": "[encoded data removed]",
      "text/plain": [
       "<Figure size 576x576 with 1 Axes>"
      ]
     },
     "metadata": {
      "needs_background": "light"
     },
     "output_type": "display_data"
    }
   ],
   "source": [
    "plt.figure(figsize=(8, 8))\n",
    "\n",
    "plt.plot(gsw['TOV'], gsw['PTS'], 'ro');\n",
    "plt.xlabel('Turn Over/player', size = 18); plt.ylabel('Points/player', size = 18); \n",
    "plt.title('Turn Over vs Points Scored', size = 20);"
   ]
  },
  {
   "cell_type": "markdown",
   "metadata": {},
   "source": [
    "### Linear sum of squares\n",
    "\n",
    "Let's look at the general linear effect of FG,AST,TOV on the Points. Let's build a linear predictive model (a line).\n",
    "\n",
    "We would like to select $\\beta_0, \\beta_1$ so that the difference between the predictions and the observations is zero, but this is not usually possible, as with our Vandermonde exercise in our linear algenra introduction notebook. Instead, we choose a reasonable criterion: ***the smallest sum of the squared differences between modelled $\\hat{y}$ and observed $y$***.\n",
    "\n",
    "<div style=\"font-size: 120%;\">  \n",
    "$$R^2 = \\sum_i (y_i - [\\beta_0 + \\beta_1 x_i])^2 = \\sum_i \\epsilon_i^2 $$  \n",
    "</div>\n",
    "\n",
    "Squaring serves two purposes: \n",
    "\n",
    "1. to prevent positive and negative values from cancelling each other out\n",
    "2. to strongly penalize large deviations. \n",
    "\n",
    "In other words, we will select the parameters that minimize the squared error of the model. Let's write the cost function:"
   ]
  },
  {
   "cell_type": "code",
   "execution_count": 9,
   "metadata": {},
   "outputs": [],
   "source": [
    "sum_of_squares = lambda θ, x, y: np.sum((y - θ[0] - θ[1]*x) ** 2)"
   ]
  },
  {
   "cell_type": "code",
   "execution_count": 10,
   "metadata": {},
   "outputs": [
    {
     "data": {
      "text/plain": [
       "(array([554, 478, 440, 115, 161, 113, 130, 134,  81,  96,  64,  53,  50,\n",
       "         32,   6,  10], dtype=int64),\n",
       " array([336, 123, 240, 307, 102, 164,  80,  82,  85,  19,  56,  28,  41,\n",
       "          3,  13,   1], dtype=int64),\n",
       " array([176,  86, 128, 108,  38,  37,  35,  32,  26,  22,  24,  16,  23,\n",
       "          8,   6,   3], dtype=int64))"
      ]
     },
     "execution_count": 10,
     "metadata": {},
     "output_type": "execute_result"
    }
   ],
   "source": [
    "from scipy.optimize import fmin\n",
    "\n",
    "e, f, g= X.T.values\n",
    "e, f, g"
   ]
  },
  {
   "cell_type": "code",
   "execution_count": 11,
   "metadata": {},
   "outputs": [
    {
     "data": {
      "text/plain": [
       "array([1573, 1224, 1316,  296,  377,  299,  364,  333,  197,  236,  142,\n",
       "        130,  153,   91,   13,   28], dtype=int64)"
      ]
     },
     "execution_count": 11,
     "metadata": {},
     "output_type": "execute_result"
    }
   ],
   "source": [
    "h = y.T.values\n",
    "h"
   ]
  },
  {
   "cell_type": "code",
   "execution_count": 12,
   "metadata": {},
   "outputs": [
    {
     "name": "stdout",
     "output_type": "stream",
     "text": [
      "Optimization terminated successfully.\n",
      "         Current function value: 27840.224996\n",
      "         Iterations: 99\n",
      "         Function evaluations: 185\n"
     ]
    },
    {
     "data": {
      "text/plain": [
       "(-19.68252193948864, 2.8156220897578006)"
      ]
     },
     "execution_count": 12,
     "metadata": {},
     "output_type": "execute_result"
    }
   ],
   "source": [
    "a0, a1 = fmin(sum_of_squares, [0,1], args=(e,h))\n",
    "a0, a1"
   ]
  },
  {
   "cell_type": "code",
   "execution_count": 15,
   "metadata": {},
   "outputs": [
    {
     "data": {
      "image/png": "[encoded data removed]",
      "text/plain": [
       "<Figure size 792x576 with 1 Axes>"
      ]
     },
     "metadata": {
      "needs_background": "light"
     },
     "output_type": "display_data"
    }
   ],
   "source": [
    "# FG with points \n",
    "ax = gsw.plot(x='FG', y='PTS', style='bo', legend=False,figsize=(11,8))\n",
    "ax.plot([0,550], [a0, a0+a1*550])\n",
    "for ei, hi in zip(e,h):\n",
    "    ax.plot([ei]*2, [hi, a0+a1*ei], 'k:')"
   ]
  },
  {
   "cell_type": "code",
   "execution_count": 16,
   "metadata": {},
   "outputs": [
    {
     "name": "stdout",
     "output_type": "stream",
     "text": [
      "Optimization terminated successfully.\n",
      "         Current function value: 1701927.909030\n",
      "         Iterations: 110\n",
      "         Function evaluations: 202\n"
     ]
    },
    {
     "data": {
      "text/plain": [
       "(72.83239511932383, 3.337310764771746)"
      ]
     },
     "execution_count": 16,
     "metadata": {},
     "output_type": "execute_result"
    }
   ],
   "source": [
    "b0, b1 = fmin(sum_of_squares, [0,1], args=(f,h))\n",
    "b0, b1"
   ]
  },
  {
   "cell_type": "code",
   "execution_count": 17,
   "metadata": {},
   "outputs": [
    {
     "data": {
      "image/png": "[encoded data removed]",
      "text/plain": [
       "<Figure size 864x576 with 1 Axes>"
      ]
     },
     "metadata": {
      "needs_background": "light"
     },
     "output_type": "display_data"
    }
   ],
   "source": [
    "#AST with points\n",
    "ax = gsw.plot(x='AST', y='PTS', style='go', legend=False,figsize=(12,8))\n",
    "ax.plot([0,400], [b0, b0+b1*400])\n",
    "for fi, hi in zip(f,h):\n",
    "    ax.plot([fi]*2, [hi, b0+b1*fi], 'k:')"
   ]
  },
  {
   "cell_type": "code",
   "execution_count": 18,
   "metadata": {},
   "outputs": [
    {
     "name": "stdout",
     "output_type": "stream",
     "text": [
      "Optimization terminated successfully.\n",
      "         Current function value: 703456.937715\n",
      "         Iterations: 84\n",
      "         Function evaluations: 158\n"
     ]
    },
    {
     "data": {
      "text/plain": [
       "(2.5438359145460434, 8.764711601052419)"
      ]
     },
     "execution_count": 18,
     "metadata": {},
     "output_type": "execute_result"
    }
   ],
   "source": [
    "c0, c1 = fmin(sum_of_squares, [0,1], args=(g,h))\n",
    "c0, c1"
   ]
  },
  {
   "cell_type": "code",
   "execution_count": 19,
   "metadata": {},
   "outputs": [
    {
     "data": {
      "image/png": "[encoded data removed]",
      "text/plain": [
       "<Figure size 864x576 with 1 Axes>"
      ]
     },
     "metadata": {
      "needs_background": "light"
     },
     "output_type": "display_data"
    }
   ],
   "source": [
    "#TOV with points\n",
    "ax = gsw.plot(x='TOV', y='PTS', style='ro', legend=False,figsize=(12,8))\n",
    "ax.plot([0,200], [c0, c0+c1*200])\n",
    "for gi, hi in zip(g,h):\n",
    "    ax.plot([gi]*2, [hi, c0+c1*gi], 'k:')"
   ]
  },
  {
   "cell_type": "markdown",
   "metadata": {},
   "source": [
    "#### The stats above more or less coincide with the linear predictive model and we can see that the points of the player do depend on the FG,AST,TOV"
   ]
  },
  {
   "cell_type": "markdown",
   "metadata": {},
   "source": [
    "## Bayesian Linear Regression with PyMC3\n",
    "\n",
    "Let's turn to a Bayesian approach and build a regression model in PyMC3 for the games we just recorded."
   ]
  },
  {
   "cell_type": "markdown",
   "metadata": {},
   "source": [
    "### Likelihood\n",
    "\n",
    "We'll pick a **normal** distribution of Points as our model, with a **mean** and **standard deviation** as parameters:\n",
    "\n",
    "$$y_i \\sim \\text{Normal}(\\mu_i, \\sigma)$$\n",
    "\n",
    "Here, $\\mu_i$ is the expected value of the *i*th observation, which is generated by the regression model at the corresponding value of $x$. We calculate this expected value as a function of the regression parameters and the data.\n",
    "\n",
    "We score *observed* team strength with a single scalar value: ***Points***. However, the important parameters that will help the coach devise a winning strategy are *latent* (hidden). \n",
    "\n",
    "Let's assume one latent parameter $\\theta$ as the following linear combination of:\n",
    "- a constant (the bias)\n",
    "- the FG of players\n",
    "- the AST of players\n",
    "- the TOV of players\n",
    "\n",
    "So we write:\n",
    "\n",
    "$$log(\\theta) = \\text{intercept} + \\text{slope1} * \\text{FG} + \\text{slope2} * \\text{AST} + \\text{slope3} * \\text{TOV}$$\n",
    "\n",
    "We'll incorporate that latent parameter as the mean of the normal distribution model for ***Points***."
   ]
  },
  {
   "cell_type": "markdown",
   "metadata": {},
   "source": [
    "### Priors\n",
    "The first step in specifying our model is to specify priors for our model.\n",
    "\n",
    "Recall we use a linear model for μ, with an `intercept` (bias) factor and two linear factors `slope1`, `slope2` and `slope3` to represent FG,AST and TOV:\n",
    "\n",
    "$$μ = \\text{intercept} + \\text{slope1}*e + \\text{slope2}*f +\\text{slope1}*g $$\n",
    "    \n",
    "We are going to model these factors as Poisson distributions with a *wide* support: \n",
    "\n",
    "and finally the standard deviation of our modelled ***Points*** will be a **half Cauchy**:\n",
    "\n",
    "$$\\sigma \\sim \\text{HalfCauchy}(1)$$\n",
    "\n",
    "The half-Cauchy distribution (half of a [Cauchy](https://en.wikipedia.org/wiki/Cauchy_distribution)) has support over positive continuous values, and relatively large tail probabilities, allowing for the possibility of extreme values. It is a very often used modeling pdf.\n",
    "\n",
    "Since we want to track `slope1`,`slope2` and `slope3`, we need to add them as deterministic variables of our model: `pm.Deterministic`.\n",
    "\n",
    "Ok, let's get cooking. We use `Deterministic` to track computed quantities inside the model."
   ]
  },
  {
   "cell_type": "code",
   "execution_count": 20,
   "metadata": {},
   "outputs": [
    {
     "name": "stderr",
     "output_type": "stream",
     "text": [
      "WARNING (theano.gof.compilelock): Overriding existing lock by dead process '2708' (I am process '8504')\n"
     ]
    }
   ],
   "source": [
    "#Model parameters (priors) as probability density functions\n",
    "from pymc3 import Normal, HalfCauchy, Deterministic, Model,Gamma,Poisson\n",
    "\n",
    "with Model() as player_model:\n",
    "    \n",
    "    intercept = Normal('intercept',-0.5, sd=100)\n",
    "    slope1 = Poisson('slope1',42)\n",
    "    slope2 = Poisson('slope2',42)\n",
    "    slope3 = Poisson('slope3',42)\n",
    "    FG = Deterministic('FG', slope1)\n",
    "    AST = Deterministic('AST', slope2)\n",
    "    TOV = Deterministic('TOV',slope3)\n",
    "    σ = HalfCauchy('σ', 1)"
   ]
  },
  {
   "cell_type": "code",
   "execution_count": 811,
   "metadata": {},
   "outputs": [],
   "source": [
    "with player_model:\n",
    "    \n",
    "    μ = intercept + slope1*FG + slope2*AST + slope3*TOV\n",
    "    mu_d = Deterministic('mu_d', μ)\n",
    "    score = Normal('score', mu=μ, sd=σ, observed=y)"
   ]
  },
  {
   "cell_type": "markdown",
   "metadata": {},
   "source": [
    "All right! Now the regression model is fully specified and ready to track your posteriors.\n",
    "\n",
    "We now use the fitting method of your choice to estimate a posterior distribution. Let's use a **Markov chain Monte Carlo** algorithm, called **NUTS** (the No U-Turn Sampler)."
   ]
  },
  {
   "cell_type": "code",
   "execution_count": 812,
   "metadata": {},
   "outputs": [
    {
     "name": "stderr",
     "output_type": "stream",
     "text": [
      "Multiprocess sampling (4 chains in 4 jobs)\n",
      "CompoundStep\n",
      ">NUTS: [σ, intercept]\n",
      ">CompoundStep\n",
      ">>Metropolis: [slope3]\n",
      ">>Metropolis: [slope2]\n",
      ">>Metropolis: [slope1]\n",
      "Sampling 4 chains: 100%|██████████| 6000/6000 [00:02<00:00, 2066.79draws/s]\n",
      "The acceptance probability does not match the target. It is 0.9066037711565866, but should be close to 0.8. Try to increase the number of tuning steps.\n",
      "The acceptance probability does not match the target. It is 0.9182103934818491, but should be close to 0.8. Try to increase the number of tuning steps.\n",
      "The acceptance probability does not match the target. It is 0.9039027432898643, but should be close to 0.8. Try to increase the number of tuning steps.\n",
      "The estimated number of effective samples is smaller than 200 for some parameters.\n"
     ]
    }
   ],
   "source": [
    "#probabilistic program that yields the best values for parameters\n",
    "from pymc3 import sample\n",
    "\n",
    "with player_model:\n",
    "\n",
    "    player_sample = sample(1000, random_seed=RANDOM_SEED)"
   ]
  },
  {
   "cell_type": "markdown",
   "metadata": {},
   "source": [
    "Let's plot posteriors anyway:"
   ]
  },
  {
   "cell_type": "code",
   "execution_count": 813,
   "metadata": {},
   "outputs": [
    {
     "data": {
      "image/png": "[encoded data removed]",
      "text/plain": [
       "<Figure size 864x540 with 6 Axes>"
      ]
     },
     "metadata": {
      "needs_background": "light"
     },
     "output_type": "display_data"
    }
   ],
   "source": [
    "#Run a probabilistic program to give us the posterior pdfs\n",
    "from pymc3 import plot_posterior\n",
    "\n",
    "plot_posterior(player_sample[500:], varnames=['intercept', 'FG', 'AST','TOV', 'σ', 'mu_d']);"
   ]
  },
  {
   "cell_type": "markdown",
   "metadata": {},
   "source": [
    "# Checking model fit\n",
    "\n",
    "One intuitive way of evaluating model fit is to compare model predictions with the observations used to fit the model. In other words, the fitted model can be used to **simulate\n",
    "data**, and the distribution of the simulated data should resemble the distribution of the actual data.\n",
    "\n",
    "Sampling from the **posterior predictive distribution** is straighforward in PyMC3. The `sample_posterior_predictive` function draws posterior predictive checks from all of the data likelihoods. "
   ]
  },
  {
   "cell_type": "code",
   "execution_count": 814,
   "metadata": {},
   "outputs": [
    {
     "name": "stderr",
     "output_type": "stream",
     "text": [
      "100%|██████████| 1000/1000 [00:00<00:00, 1895.23it/s]\n"
     ]
    }
   ],
   "source": [
    "from pymc3 import sample_posterior_predictive\n",
    "\n",
    "with player_model:\n",
    "    \n",
    "    player_ppc = sample_posterior_predictive(player_sample, 1000)"
   ]
  },
  {
   "cell_type": "code",
   "execution_count": 815,
   "metadata": {},
   "outputs": [
    {
     "data": {
      "text/plain": [
       "(1000, 16)"
      ]
     },
     "execution_count": 815,
     "metadata": {},
     "output_type": "execute_result"
    }
   ],
   "source": [
    "player_ppc['score'].shape"
   ]
  },
  {
   "cell_type": "markdown",
   "metadata": {},
   "source": [
    "We can then compare these simulated data to the data we used to fit the model. \n",
    "\n",
    "The model should prove that ***it*** could have been used to generate the player data that we observed.\n",
    "\n",
    "We plot 15 histograms `hist`, one for each of the 1000 simulations per plater. Since each simulation yields different points per player, it makes sense that all these simulations put together yeild a histogram. We know see if the mean points per player for all 1000 simulations matches the real score of each game, represented by a red line. "
   ]
  },
  {
   "cell_type": "code",
   "execution_count": 816,
   "metadata": {},
   "outputs": [
    {
     "data": {
      "image/png": "[encoded data removed]",
      "text/plain": [
       "<Figure size 432x288 with 15 Axes>"
      ]
     },
     "metadata": {
      "needs_background": "light"
     },
     "output_type": "display_data"
    }
   ],
   "source": [
    "#Plot the posterior means and check if we get a good match\n",
    "fig, axes = plt.subplots(5,3)\n",
    "axes_flat = axes.flatten()\n",
    "\n",
    "for ax, real_data, sim_data in zip(axes_flat[:], y, player_ppc['score'].T):\n",
    "    ax.hist(sim_data, bins=20)\n",
    "    ax.vlines(real_data, *ax.get_ylim(), colors='red')\n",
    "    ax.set_yticklabels([])\n",
    "    sns.despine(left=True)\n",
    "\n",
    "#axes_flat[-1].axis('off')\n",
    "plt.tight_layout()"
   ]
  },
  {
   "cell_type": "markdown",
   "metadata": {},
   "source": [
    "The [highest posterior density interval](highest posterior density interval) (HDI) is the shortest interval on a posterior density for some given confidence level. HDI has the nice property that any point **within** the interval has a higher density than any other point outside. Thus, the HPD interval is **the** collection of most likely values of a parameter.\n",
    "\n"
   ]
  },
  {
   "cell_type": "code",
   "execution_count": 724,
   "metadata": {},
   "outputs": [
    {
     "data": {
      "text/plain": [
       "array([14, 34])"
      ]
     },
     "execution_count": 724,
     "metadata": {},
     "output_type": "execute_result"
    }
   ],
   "source": [
    "import pymc3 as pm\n",
    "pm.stats.hpd(player_sample['FG'])"
   ]
  },
  {
   "cell_type": "code",
   "execution_count": 725,
   "metadata": {},
   "outputs": [
    {
     "data": {
      "text/plain": [
       "array([28, 53])"
      ]
     },
     "execution_count": 725,
     "metadata": {},
     "output_type": "execute_result"
    }
   ],
   "source": [
    "pm.stats.hpd(game_sample['AST'])"
   ]
  },
  {
   "cell_type": "code",
   "execution_count": 726,
   "metadata": {},
   "outputs": [
    {
     "data": {
      "text/plain": [
       "array([29, 53])"
      ]
     },
     "execution_count": 726,
     "metadata": {},
     "output_type": "execute_result"
    }
   ],
   "source": [
    "pm.stats.hpd(game_sample['TOV'])"
   ]
  },
  {
   "cell_type": "markdown",
   "metadata": {},
   "source": [
    "## Using Scikit learn to perform Linear regression\n"
   ]
  },
  {
   "cell_type": "code",
   "execution_count": 4,
   "metadata": {},
   "outputs": [
    {
     "data": {
      "text/html": [
       "<div>\n",
       "<style scoped>\n",
       "    .dataframe tbody tr th:only-of-type {\n",
       "        vertical-align: middle;\n",
       "    }\n",
       "\n",
       "    .dataframe tbody tr th {\n",
       "        vertical-align: top;\n",
       "    }\n",
       "\n",
       "    .dataframe thead th {\n",
       "        text-align: right;\n",
       "    }\n",
       "</style>\n",
       "<table border=\"1\" class=\"dataframe\">\n",
       "  <thead>\n",
       "    <tr style=\"text-align: right;\">\n",
       "      <th></th>\n",
       "      <th>Player</th>\n",
       "      <th>G</th>\n",
       "      <th>GS</th>\n",
       "      <th>MP</th>\n",
       "      <th>FG</th>\n",
       "      <th>FGA</th>\n",
       "      <th>FT</th>\n",
       "      <th>FTA</th>\n",
       "      <th>ORB</th>\n",
       "      <th>DRB</th>\n",
       "      <th>TRB</th>\n",
       "      <th>AST</th>\n",
       "      <th>STL</th>\n",
       "      <th>BLK</th>\n",
       "      <th>TOV</th>\n",
       "      <th>PF</th>\n",
       "      <th>PTS</th>\n",
       "    </tr>\n",
       "  </thead>\n",
       "  <tbody>\n",
       "    <tr>\n",
       "      <th>0</th>\n",
       "      <td>Kevin Durant</td>\n",
       "      <td>57</td>\n",
       "      <td>57</td>\n",
       "      <td>2017</td>\n",
       "      <td>554</td>\n",
       "      <td>1074</td>\n",
       "      <td>360</td>\n",
       "      <td>403</td>\n",
       "      <td>30</td>\n",
       "      <td>368</td>\n",
       "      <td>398</td>\n",
       "      <td>336</td>\n",
       "      <td>45</td>\n",
       "      <td>62</td>\n",
       "      <td>176</td>\n",
       "      <td>111</td>\n",
       "      <td>1573</td>\n",
       "    </tr>\n",
       "    <tr>\n",
       "      <th>1</th>\n",
       "      <td>Klay Thompson</td>\n",
       "      <td>56</td>\n",
       "      <td>56</td>\n",
       "      <td>1910</td>\n",
       "      <td>478</td>\n",
       "      <td>1019</td>\n",
       "      <td>102</td>\n",
       "      <td>126</td>\n",
       "      <td>24</td>\n",
       "      <td>199</td>\n",
       "      <td>223</td>\n",
       "      <td>123</td>\n",
       "      <td>63</td>\n",
       "      <td>38</td>\n",
       "      <td>86</td>\n",
       "      <td>120</td>\n",
       "      <td>1224</td>\n",
       "    </tr>\n",
       "    <tr>\n",
       "      <th>2</th>\n",
       "      <td>Stephen Curry</td>\n",
       "      <td>46</td>\n",
       "      <td>46</td>\n",
       "      <td>1576</td>\n",
       "      <td>440</td>\n",
       "      <td>901</td>\n",
       "      <td>200</td>\n",
       "      <td>217</td>\n",
       "      <td>32</td>\n",
       "      <td>204</td>\n",
       "      <td>236</td>\n",
       "      <td>240</td>\n",
       "      <td>56</td>\n",
       "      <td>18</td>\n",
       "      <td>128</td>\n",
       "      <td>118</td>\n",
       "      <td>1316</td>\n",
       "    </tr>\n",
       "    <tr>\n",
       "      <th>3</th>\n",
       "      <td>Draymond Green</td>\n",
       "      <td>42</td>\n",
       "      <td>42</td>\n",
       "      <td>1308</td>\n",
       "      <td>115</td>\n",
       "      <td>271</td>\n",
       "      <td>42</td>\n",
       "      <td>58</td>\n",
       "      <td>41</td>\n",
       "      <td>277</td>\n",
       "      <td>318</td>\n",
       "      <td>307</td>\n",
       "      <td>66</td>\n",
       "      <td>45</td>\n",
       "      <td>108</td>\n",
       "      <td>135</td>\n",
       "      <td>296</td>\n",
       "    </tr>\n",
       "    <tr>\n",
       "      <th>4</th>\n",
       "      <td>Kevon Looney</td>\n",
       "      <td>57</td>\n",
       "      <td>23</td>\n",
       "      <td>1184</td>\n",
       "      <td>161</td>\n",
       "      <td>264</td>\n",
       "      <td>54</td>\n",
       "      <td>86</td>\n",
       "      <td>148</td>\n",
       "      <td>186</td>\n",
       "      <td>334</td>\n",
       "      <td>102</td>\n",
       "      <td>34</td>\n",
       "      <td>47</td>\n",
       "      <td>38</td>\n",
       "      <td>160</td>\n",
       "      <td>377</td>\n",
       "    </tr>\n",
       "    <tr>\n",
       "      <th>5</th>\n",
       "      <td>Andre Iguodala</td>\n",
       "      <td>50</td>\n",
       "      <td>11</td>\n",
       "      <td>1176</td>\n",
       "      <td>113</td>\n",
       "      <td>226</td>\n",
       "      <td>33</td>\n",
       "      <td>53</td>\n",
       "      <td>35</td>\n",
       "      <td>159</td>\n",
       "      <td>194</td>\n",
       "      <td>164</td>\n",
       "      <td>44</td>\n",
       "      <td>39</td>\n",
       "      <td>37</td>\n",
       "      <td>65</td>\n",
       "      <td>299</td>\n",
       "    </tr>\n",
       "    <tr>\n",
       "      <th>6</th>\n",
       "      <td>Jonas Jerebko</td>\n",
       "      <td>53</td>\n",
       "      <td>6</td>\n",
       "      <td>972</td>\n",
       "      <td>130</td>\n",
       "      <td>274</td>\n",
       "      <td>51</td>\n",
       "      <td>62</td>\n",
       "      <td>62</td>\n",
       "      <td>184</td>\n",
       "      <td>246</td>\n",
       "      <td>80</td>\n",
       "      <td>17</td>\n",
       "      <td>10</td>\n",
       "      <td>35</td>\n",
       "      <td>108</td>\n",
       "      <td>364</td>\n",
       "    </tr>\n",
       "    <tr>\n",
       "      <th>7</th>\n",
       "      <td>Quinn Cook</td>\n",
       "      <td>49</td>\n",
       "      <td>8</td>\n",
       "      <td>705</td>\n",
       "      <td>134</td>\n",
       "      <td>300</td>\n",
       "      <td>15</td>\n",
       "      <td>20</td>\n",
       "      <td>16</td>\n",
       "      <td>93</td>\n",
       "      <td>109</td>\n",
       "      <td>82</td>\n",
       "      <td>17</td>\n",
       "      <td>3</td>\n",
       "      <td>32</td>\n",
       "      <td>66</td>\n",
       "      <td>333</td>\n",
       "    </tr>\n",
       "    <tr>\n",
       "      <th>8</th>\n",
       "      <td>Shaun Livingston</td>\n",
       "      <td>45</td>\n",
       "      <td>0</td>\n",
       "      <td>690</td>\n",
       "      <td>81</td>\n",
       "      <td>165</td>\n",
       "      <td>35</td>\n",
       "      <td>43</td>\n",
       "      <td>31</td>\n",
       "      <td>58</td>\n",
       "      <td>89</td>\n",
       "      <td>85</td>\n",
       "      <td>24</td>\n",
       "      <td>23</td>\n",
       "      <td>26</td>\n",
       "      <td>55</td>\n",
       "      <td>197</td>\n",
       "    </tr>\n",
       "    <tr>\n",
       "      <th>9</th>\n",
       "      <td>Alfonzo McKinnie</td>\n",
       "      <td>48</td>\n",
       "      <td>1</td>\n",
       "      <td>678</td>\n",
       "      <td>96</td>\n",
       "      <td>196</td>\n",
       "      <td>16</td>\n",
       "      <td>31</td>\n",
       "      <td>61</td>\n",
       "      <td>108</td>\n",
       "      <td>169</td>\n",
       "      <td>19</td>\n",
       "      <td>10</td>\n",
       "      <td>10</td>\n",
       "      <td>22</td>\n",
       "      <td>92</td>\n",
       "      <td>236</td>\n",
       "    </tr>\n",
       "    <tr>\n",
       "      <th>10</th>\n",
       "      <td>Jordan Bell</td>\n",
       "      <td>48</td>\n",
       "      <td>2</td>\n",
       "      <td>531</td>\n",
       "      <td>64</td>\n",
       "      <td>124</td>\n",
       "      <td>14</td>\n",
       "      <td>21</td>\n",
       "      <td>38</td>\n",
       "      <td>88</td>\n",
       "      <td>126</td>\n",
       "      <td>56</td>\n",
       "      <td>16</td>\n",
       "      <td>36</td>\n",
       "      <td>24</td>\n",
       "      <td>58</td>\n",
       "      <td>142</td>\n",
       "    </tr>\n",
       "    <tr>\n",
       "      <th>11</th>\n",
       "      <td>Damian Jones</td>\n",
       "      <td>24</td>\n",
       "      <td>22</td>\n",
       "      <td>410</td>\n",
       "      <td>53</td>\n",
       "      <td>74</td>\n",
       "      <td>24</td>\n",
       "      <td>37</td>\n",
       "      <td>31</td>\n",
       "      <td>44</td>\n",
       "      <td>75</td>\n",
       "      <td>28</td>\n",
       "      <td>12</td>\n",
       "      <td>25</td>\n",
       "      <td>16</td>\n",
       "      <td>63</td>\n",
       "      <td>130</td>\n",
       "    </tr>\n",
       "    <tr>\n",
       "      <th>12</th>\n",
       "      <td>DeMarcus Cousins</td>\n",
       "      <td>11</td>\n",
       "      <td>11</td>\n",
       "      <td>257</td>\n",
       "      <td>50</td>\n",
       "      <td>118</td>\n",
       "      <td>44</td>\n",
       "      <td>60</td>\n",
       "      <td>13</td>\n",
       "      <td>62</td>\n",
       "      <td>75</td>\n",
       "      <td>41</td>\n",
       "      <td>14</td>\n",
       "      <td>12</td>\n",
       "      <td>23</td>\n",
       "      <td>40</td>\n",
       "      <td>153</td>\n",
       "    </tr>\n",
       "    <tr>\n",
       "      <th>13</th>\n",
       "      <td>Damion Lee</td>\n",
       "      <td>18</td>\n",
       "      <td>0</td>\n",
       "      <td>215</td>\n",
       "      <td>32</td>\n",
       "      <td>71</td>\n",
       "      <td>12</td>\n",
       "      <td>15</td>\n",
       "      <td>6</td>\n",
       "      <td>30</td>\n",
       "      <td>36</td>\n",
       "      <td>3</td>\n",
       "      <td>8</td>\n",
       "      <td>0</td>\n",
       "      <td>8</td>\n",
       "      <td>19</td>\n",
       "      <td>91</td>\n",
       "    </tr>\n",
       "    <tr>\n",
       "      <th>14</th>\n",
       "      <td>Jacob Evans</td>\n",
       "      <td>23</td>\n",
       "      <td>0</td>\n",
       "      <td>99</td>\n",
       "      <td>6</td>\n",
       "      <td>25</td>\n",
       "      <td>0</td>\n",
       "      <td>1</td>\n",
       "      <td>1</td>\n",
       "      <td>8</td>\n",
       "      <td>9</td>\n",
       "      <td>13</td>\n",
       "      <td>1</td>\n",
       "      <td>1</td>\n",
       "      <td>6</td>\n",
       "      <td>13</td>\n",
       "      <td>13</td>\n",
       "    </tr>\n",
       "    <tr>\n",
       "      <th>15</th>\n",
       "      <td>Marcus Derrickson</td>\n",
       "      <td>9</td>\n",
       "      <td>0</td>\n",
       "      <td>54</td>\n",
       "      <td>10</td>\n",
       "      <td>24</td>\n",
       "      <td>3</td>\n",
       "      <td>4</td>\n",
       "      <td>5</td>\n",
       "      <td>3</td>\n",
       "      <td>8</td>\n",
       "      <td>1</td>\n",
       "      <td>0</td>\n",
       "      <td>1</td>\n",
       "      <td>3</td>\n",
       "      <td>9</td>\n",
       "      <td>28</td>\n",
       "    </tr>\n",
       "  </tbody>\n",
       "</table>\n",
       "</div>"
      ],
      "text/plain": [
       "               Player   G  GS    MP   FG   FGA   FT  FTA  ORB  DRB  TRB  AST  \\\n",
       "0        Kevin Durant  57  57  2017  554  1074  360  403   30  368  398  336   \n",
       "1       Klay Thompson  56  56  1910  478  1019  102  126   24  199  223  123   \n",
       "2       Stephen Curry  46  46  1576  440   901  200  217   32  204  236  240   \n",
       "3      Draymond Green  42  42  1308  115   271   42   58   41  277  318  307   \n",
       "4        Kevon Looney  57  23  1184  161   264   54   86  148  186  334  102   \n",
       "5      Andre Iguodala  50  11  1176  113   226   33   53   35  159  194  164   \n",
       "6       Jonas Jerebko  53   6   972  130   274   51   62   62  184  246   80   \n",
       "7          Quinn Cook  49   8   705  134   300   15   20   16   93  109   82   \n",
       "8    Shaun Livingston  45   0   690   81   165   35   43   31   58   89   85   \n",
       "9    Alfonzo McKinnie  48   1   678   96   196   16   31   61  108  169   19   \n",
       "10        Jordan Bell  48   2   531   64   124   14   21   38   88  126   56   \n",
       "11       Damian Jones  24  22   410   53    74   24   37   31   44   75   28   \n",
       "12   DeMarcus Cousins  11  11   257   50   118   44   60   13   62   75   41   \n",
       "13         Damion Lee  18   0   215   32    71   12   15    6   30   36    3   \n",
       "14        Jacob Evans  23   0    99    6    25    0    1    1    8    9   13   \n",
       "15  Marcus Derrickson   9   0    54   10    24    3    4    5    3    8    1   \n",
       "\n",
       "    STL  BLK  TOV   PF   PTS  \n",
       "0    45   62  176  111  1573  \n",
       "1    63   38   86  120  1224  \n",
       "2    56   18  128  118  1316  \n",
       "3    66   45  108  135   296  \n",
       "4    34   47   38  160   377  \n",
       "5    44   39   37   65   299  \n",
       "6    17   10   35  108   364  \n",
       "7    17    3   32   66   333  \n",
       "8    24   23   26   55   197  \n",
       "9    10   10   22   92   236  \n",
       "10   16   36   24   58   142  \n",
       "11   12   25   16   63   130  \n",
       "12   14   12   23   40   153  \n",
       "13    8    0    8   19    91  \n",
       "14    1    1    6   13    13  \n",
       "15    0    1    3    9    28  "
      ]
     },
     "execution_count": 4,
     "metadata": {},
     "output_type": "execute_result"
    }
   ],
   "source": [
    "# Importing the dataset\n",
    "dataset = pd.read_excel('GSW_stats.xlsx')\n",
    "dataset"
   ]
  },
  {
   "cell_type": "code",
   "execution_count": 43,
   "metadata": {},
   "outputs": [],
   "source": [
    "# Create the features and response\n",
    "X = dataset.loc[:, ['FG']]\n",
    "y = dataset.loc[:, 'PTS']"
   ]
  },
  {
   "cell_type": "markdown",
   "metadata": {},
   "source": [
    "In the below  regression model, we want to test how  FG (Field Goals) affect the Points of a player.\n",
    "Hence the  independant variable (x) will be FG and my dependant variable (y) is PTS"
   ]
  },
  {
   "cell_type": "code",
   "execution_count": 52,
   "metadata": {},
   "outputs": [
    {
     "data": {
      "text/plain": [
       "array([[554],\n",
       "       [478],\n",
       "       [440],\n",
       "       [115],\n",
       "       [161],\n",
       "       [113],\n",
       "       [130],\n",
       "       [134],\n",
       "       [ 81],\n",
       "       [ 96],\n",
       "       [ 64],\n",
       "       [ 53],\n",
       "       [ 50],\n",
       "       [ 32],\n",
       "       [  6],\n",
       "       [ 10]], dtype=int64)"
      ]
     },
     "execution_count": 52,
     "metadata": {},
     "output_type": "execute_result"
    }
   ],
   "source": [
    "#Creating the independent variable \n",
    "X"
   ]
  },
  {
   "cell_type": "code",
   "execution_count": 53,
   "metadata": {
    "scrolled": true
   },
   "outputs": [
    {
     "data": {
      "text/plain": [
       "0     1573\n",
       "1     1224\n",
       "2     1316\n",
       "3      296\n",
       "4      377\n",
       "5      299\n",
       "6      364\n",
       "7      333\n",
       "8      197\n",
       "9      236\n",
       "10     142\n",
       "11     130\n",
       "12     153\n",
       "13      91\n",
       "14      13\n",
       "15      28\n",
       "Name: PTS, dtype: int64"
      ]
     },
     "execution_count": 53,
     "metadata": {},
     "output_type": "execute_result"
    }
   ],
   "source": [
    "#Creating the dependent variable\n",
    "y"
   ]
  },
  {
   "cell_type": "markdown",
   "metadata": {},
   "source": [
    "Let's visualize these two columns and see whether a linear regression is viable\n",
    "\n",
    "Below is scatter plot of Fiels goals and points of each player"
   ]
  },
  {
   "cell_type": "code",
   "execution_count": 57,
   "metadata": {},
   "outputs": [
    {
     "data": {
      "image/png": "[encoded data removed]",
      "text/plain": [
       "<Figure size 432x288 with 1 Axes>"
      ]
     },
     "metadata": {
      "needs_background": "light"
     },
     "output_type": "display_data"
    }
   ],
   "source": [
    "plt.scatter(X, y, c='red', label='Scatter Plot') #implementing the scatter function from pyplot\n",
    "plt.xlabel('FG') \n",
    "plt.ylabel('PTS') \n",
    "plt.legend('PTS')\n",
    "plt.show()"
   ]
  },
  {
   "cell_type": "markdown",
   "metadata": {},
   "source": [
    "Doesn't look too bad, as Field goals increases, so does the number of points\n",
    "\n",
    "Also Points does not dropped significantly after going up, so a linear estimation is viable\n"
   ]
  },
  {
   "cell_type": "code",
   "execution_count": 59,
   "metadata": {},
   "outputs": [],
   "source": [
    "# LET'S MAKE THE MODEL! \n",
    "X = X.reshape(len(X),1)\n",
    "# Creating regression model using sklearn\n",
    "reg = LinearRegression()\n",
    "\n",
    "# Fitting it to X and Y that we defined prevoiusly\n",
    "reg = reg.fit(X, y)\n",
    "\n",
    "# getting our Y Pred using reg.Predict\n",
    "Y_pred = reg.predict(X) #Predicted values based on linear model object"
   ]
  },
  {
   "cell_type": "code",
   "execution_count": 60,
   "metadata": {},
   "outputs": [
    {
     "data": {
      "image/png": "[encoded data removed]",
      "text/plain": [
       "<Figure size 432x288 with 1 Axes>"
      ]
     },
     "metadata": {
      "needs_background": "light"
     },
     "output_type": "display_data"
    }
   ],
   "source": [
    "# let's visuzlize our results\n",
    "plt.plot(X, Y_pred, color='green', label='Regression Line')\n",
    "plt.scatter(X, y, c='red', label='Actual Data')\n",
    "\n",
    "plt.xlabel('FG')\n",
    "plt.ylabel('PTS')\n",
    "plt.legend()\n",
    "plt.show()"
   ]
  },
  {
   "cell_type": "code",
   "execution_count": 50,
   "metadata": {},
   "outputs": [
    {
     "data": {
      "text/plain": [
       "0     1573\n",
       "1     1224\n",
       "2     1316\n",
       "3      296\n",
       "4      377\n",
       "5      299\n",
       "6      364\n",
       "7      333\n",
       "8      197\n",
       "9      236\n",
       "10     142\n",
       "11     130\n",
       "12     153\n",
       "13      91\n",
       "14      13\n",
       "15      28\n",
       "Name: PTS, dtype: int64"
      ]
     },
     "execution_count": 50,
     "metadata": {},
     "output_type": "execute_result"
    }
   ],
   "source": [
    "y"
   ]
  },
  {
   "cell_type": "markdown",
   "metadata": {},
   "source": [
    "The real values are the observations points in red.The predictive values are ones on the green regression line."
   ]
  },
  {
   "cell_type": "code",
   "execution_count": 51,
   "metadata": {},
   "outputs": [
    {
     "data": {
      "text/plain": [
       "array([1540.1720997 , 1326.18481859, 1219.19117803,  304.11398905,\n",
       "        433.63260657,  298.48274481,  346.34832085,  357.61080933,\n",
       "        208.38283697,  250.61716877,  160.51726093,  129.54541761,\n",
       "        121.09855125,   70.4173531 ,   -2.78882202,    8.47366646])"
      ]
     },
     "execution_count": 51,
     "metadata": {},
     "output_type": "execute_result"
    }
   ],
   "source": [
    "Y_pred #predicted points values based of Field Goals"
   ]
  },
  {
   "cell_type": "markdown",
   "metadata": {},
   "source": [
    "From the above plot, it is clear that there is a linear dependency between FG and PTS"
   ]
  },
  {
   "cell_type": "markdown",
   "metadata": {},
   "source": [
    "Let's try plotting this for Assists and Points"
   ]
  },
  {
   "cell_type": "code",
   "execution_count": 29,
   "metadata": {},
   "outputs": [],
   "source": [
    "# Create the features and response\n",
    "X = dataset.loc[:, ['AST']]\n",
    "y = dataset.loc[:, 'PTS']"
   ]
  },
  {
   "cell_type": "code",
   "execution_count": 35,
   "metadata": {},
   "outputs": [
    {
     "data": {
      "image/png": "[encoded data removed]",
      "text/plain": [
       "<Figure size 432x288 with 1 Axes>"
      ]
     },
     "metadata": {
      "needs_background": "light"
     },
     "output_type": "display_data"
    }
   ],
   "source": [
    "plt.scatter(X, y, c='red', label='Scatter Plot')\n",
    "plt.xlabel('AST')\n",
    "plt.ylabel('PTS')\n",
    "plt.legend()\n",
    "plt.show()"
   ]
  },
  {
   "cell_type": "code",
   "execution_count": 33,
   "metadata": {},
   "outputs": [],
   "source": [
    "# LET'S MAKE THE MODEL! \n",
    "X = X.values.reshape(len(X),1)\n",
    "# Creating regression model using sklearn\n",
    "reg = LinearRegression()\n",
    "\n",
    "# Fitting it to X and Y that we defined prevoiusly\n",
    "reg = reg.fit(X, y)\n",
    "\n",
    "# getting our Y Pred\n",
    "Y_pred = reg.predict(X) #Predicted values based on linear model object"
   ]
  },
  {
   "cell_type": "code",
   "execution_count": 36,
   "metadata": {},
   "outputs": [
    {
     "data": {
      "image/png": "[encoded data removed]",
      "text/plain": [
       "<Figure size 432x288 with 1 Axes>"
      ]
     },
     "metadata": {
      "needs_background": "light"
     },
     "output_type": "display_data"
    }
   ],
   "source": [
    "# let's visuzlize our results\n",
    "plt.plot(X, Y_pred, color='green', label='Regression Line')\n",
    "plt.scatter(X, y, c='red', label='Actual Data')\n",
    "\n",
    "plt.xlabel('AST')\n",
    "plt.ylabel('PTS')\n",
    "plt.legend()\n",
    "plt.show()"
   ]
  },
  {
   "cell_type": "code",
   "execution_count": 38,
   "metadata": {},
   "outputs": [
    {
     "data": {
      "text/plain": [
       "0     1573\n",
       "1     1224\n",
       "2     1316\n",
       "3      296\n",
       "4      377\n",
       "5      299\n",
       "6      364\n",
       "7      333\n",
       "8      197\n",
       "9      236\n",
       "10     142\n",
       "11     130\n",
       "12     153\n",
       "13      91\n",
       "14      13\n",
       "15      28\n",
       "Name: PTS, dtype: int64"
      ]
     },
     "execution_count": 38,
     "metadata": {},
     "output_type": "execute_result"
    }
   ],
   "source": [
    "y"
   ]
  },
  {
   "cell_type": "code",
   "execution_count": 40,
   "metadata": {},
   "outputs": [
    {
     "data": {
      "text/plain": [
       "array([1194.16885881,  483.32159939,  873.78699541, 1097.38683757,\n",
       "        413.23806677,  620.15135355,  339.81722307,  346.49184523,\n",
       "        356.50377846,  136.24124737,  259.72175722,  166.27704706,\n",
       "        209.66209107,   82.84427014,  116.21738091,   76.16964798])"
      ]
     },
     "execution_count": 40,
     "metadata": {},
     "output_type": "execute_result"
    }
   ],
   "source": [
    "#predicted points values based on Assists\n",
    "Y_pred"
   ]
  },
  {
   "cell_type": "markdown",
   "metadata": {},
   "source": [
    "In the above case, the prediction is slightly in appropriate and this proves that there is no clear linear dependency between Assits and points of a player"
   ]
  },
  {
   "cell_type": "code",
   "execution_count": 61,
   "metadata": {},
   "outputs": [],
   "source": [
    "# Create the features and response\n",
    "X = dataset.loc[:, ['TOV']]\n",
    "y = dataset.loc[:, 'PTS']"
   ]
  },
  {
   "cell_type": "code",
   "execution_count": 62,
   "metadata": {},
   "outputs": [
    {
     "data": {
      "image/png": "[encoded data removed]",
      "text/plain": [
       "<Figure size 432x288 with 1 Axes>"
      ]
     },
     "metadata": {
      "needs_background": "light"
     },
     "output_type": "display_data"
    }
   ],
   "source": [
    "plt.scatter(X, y, c='red', label='Scatter Plot') #implementing the scatter function from pyplot\n",
    "plt.xlabel('TOV') \n",
    "plt.ylabel('PTS') \n",
    "plt.legend('PTS')\n",
    "plt.show()"
   ]
  },
  {
   "cell_type": "code",
   "execution_count": 63,
   "metadata": {},
   "outputs": [],
   "source": [
    "# LET'S MAKE THE MODEL! \n",
    "X = X.values.reshape(len(X),1)\n",
    "# Creating regression model using sklearn\n",
    "reg = LinearRegression()\n",
    "\n",
    "# Fitting it to X and Y that we defined prevoiusly\n",
    "reg = reg.fit(X, y)\n",
    "\n",
    "# getting our Y Pred\n",
    "Y_pred = reg.predict(X) #Predicted values based on linear model object"
   ]
  },
  {
   "cell_type": "code",
   "execution_count": 65,
   "metadata": {},
   "outputs": [
    {
     "data": {
      "image/png": "[encoded data removed]",
      "text/plain": [
       "<Figure size 432x288 with 1 Axes>"
      ]
     },
     "metadata": {
      "needs_background": "light"
     },
     "output_type": "display_data"
    }
   ],
   "source": [
    "# let's visuzlize our results\n",
    "plt.plot(X, Y_pred, color='green', label='Regression Line')\n",
    "plt.scatter(X, y, c='red', label='Actual Data')\n",
    "\n",
    "plt.xlabel('TOV')\n",
    "plt.ylabel('PTS')\n",
    "plt.legend()\n",
    "plt.show()"
   ]
  },
  {
   "cell_type": "code",
   "execution_count": 66,
   "metadata": {},
   "outputs": [
    {
     "data": {
      "text/plain": [
       "0     1573\n",
       "1     1224\n",
       "2     1316\n",
       "3      296\n",
       "4      377\n",
       "5      299\n",
       "6      364\n",
       "7      333\n",
       "8      197\n",
       "9      236\n",
       "10     142\n",
       "11     130\n",
       "12     153\n",
       "13      91\n",
       "14      13\n",
       "15      28\n",
       "Name: PTS, dtype: int64"
      ]
     },
     "execution_count": 66,
     "metadata": {},
     "output_type": "execute_result"
    }
   ],
   "source": [
    "y"
   ]
  },
  {
   "cell_type": "code",
   "execution_count": 67,
   "metadata": {},
   "outputs": [
    {
     "data": {
      "text/plain": [
       "array([1545.13316151,  756.30906357, 1124.42697595,  949.13273196,\n",
       "        335.60287801,  326.83816581,  309.30874141,  283.01460481,\n",
       "        230.42633162,  195.36748282,  212.89690722,  142.77920962,\n",
       "        204.13219502,   72.66151203,   55.13208763,   28.83795103])"
      ]
     },
     "execution_count": 67,
     "metadata": {},
     "output_type": "execute_result"
    }
   ],
   "source": [
    "Y_pred #predictions of TOV based on PTS"
   ]
  },
  {
   "cell_type": "markdown",
   "metadata": {},
   "source": [
    "The dependency between TOV and Points is better when compared to prediction between Assists and points as the regression line coincides with most of the real PTS values"
   ]
  },
  {
   "cell_type": "code",
   "execution_count": null,
   "metadata": {},
   "outputs": [],
   "source": []
  }
 ],
 "metadata": {
  "kernelspec": {
   "display_name": "Python 3",
   "language": "python",
   "name": "python3"
  },
  "language_info": {
   "codemirror_mode": {
    "name": "ipython",
    "version": 3
   },
   "file_extension": ".py",
   "mimetype": "text/x-python",
   "name": "python",
   "nbconvert_exporter": "python",
   "pygments_lexer": "ipython3",
   "version": "3.7.2"
  }
 },
 "nbformat": 4,
 "nbformat_minor": 2
}
